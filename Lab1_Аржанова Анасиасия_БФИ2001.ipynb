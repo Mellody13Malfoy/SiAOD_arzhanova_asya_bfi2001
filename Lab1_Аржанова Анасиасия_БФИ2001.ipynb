{
 "cells": [
  {
   "cell_type": "markdown",
   "id": "e01ed9e8",
   "metadata": {},
   "source": [
    "Лабораторная работа №1\n",
    "Выполнил студент группы БФИ2001 Аржановой Анастасии"
   ]
  },
  {
   "cell_type": "markdown",
   "id": "540c57d2",
   "metadata": {},
   "source": [
    "Задание №1\n",
    "Вызвать функцию print() и передать туда строку Hello, World! "
   ]
  },
  {
   "cell_type": "code",
   "execution_count": 1,
   "id": "a705b6d3",
   "metadata": {},
   "outputs": [
    {
     "name": "stdout",
     "output_type": "stream",
     "text": [
      "Hello, World!\n"
     ]
    }
   ],
   "source": [
    "print(\"Hello, World!\")"
   ]
  },
  {
   "cell_type": "raw",
   "id": "b83c7e17",
   "metadata": {},
   "source": [
    "Задание №2\n",
    "Написать генератор случайных матриц(многомерных), который принимает опциональные параметры m, n, min_limit, max_limit, где m и n указывают размер матрицы, а min_lim и max_lim - минимальное и максимальное значение для генерируемого числа."
   ]
  },
  {
   "cell_type": "code",
   "execution_count": 2,
   "id": "eeb0b36a",
   "metadata": {},
   "outputs": [],
   "source": [
    "from random import randint\n",
    "from random import choice\n",
    "import copy\n",
    "import time\n",
    "import math"
   ]
  },
  {
   "cell_type": "code",
   "execution_count": 3,
   "id": "67286d06",
   "metadata": {},
   "outputs": [
    {
     "name": "stdout",
     "output_type": "stream",
     "text": [
      "5\n",
      "5\n",
      "0\n",
      "101\n"
     ]
    },
    {
     "data": {
      "text/plain": [
       "[[14, 65, 41, 48, 10],\n",
       " [76, 19, 89, 3, 51],\n",
       " [35, 79, 0, 29, 93],\n",
       " [14, 78, 35, 45, 3],\n",
       " [67, 78, 15, 38, 54]]"
      ]
     },
     "execution_count": 3,
     "metadata": {},
     "output_type": "execute_result"
    }
   ],
   "source": [
    "m = int(input())\n",
    "n = int(input())\n",
    "min_limit = int(input())\n",
    "max_limit = int(input())\n",
    "m, n, min_limit, max_limit\n",
    "a = [[randint(min_limit, max_limit) for j in range(m)] for i in range(n)]\n",
    "a"
   ]
  },
  {
   "cell_type": "markdown",
   "id": "a3f0a7fc",
   "metadata": {},
   "source": [
    "Задание №3\n",
    "Реализовать методы сортировки строк числовой матрицы в соответствии с заданием. Оценить время работы каждого алгоритма сортировки и сравнить его со временем стандартной функции сортировки. Испытания проводить на сгенерированных матрицах."
   ]
  },
  {
   "cell_type": "code",
   "execution_count": 4,
   "id": "e5d0d126",
   "metadata": {},
   "outputs": [
    {
     "name": "stdout",
     "output_type": "stream",
     "text": [
      "--- 0 ms ---\n",
      "10 14 41 48 65  \n",
      "3 19 51 76 89  \n",
      "0 29 35 79 93  \n",
      "3 14 35 45 78  \n",
      "15 38 54 67 78  \n"
     ]
    }
   ],
   "source": [
    "# Сортировка выбором.\n",
    "# Берётся срез массива, в котором минимальный элемент переносят в самый левый угол,\n",
    "# после чего срез уменьшается и цикл повторяется.\n",
    "def sort(a,m):\n",
    "    for q in range(m):#выбираем одну из м строчек матрицы \n",
    "        for i in range(len(a[q])-1):# проходимся по строке матрицы\n",
    "            ind = i# записываем индек проверяемого значения, будет минимальный индекс\n",
    "            for y in range(i+1, len(a[q])):# проыеряем все значения от выдбранного значения и до конца\n",
    "                if a[q][y]<a[q][ind]:# проверяем что значение с выбранным ранее индексом больше чем значение сейчас\n",
    "                    ind = y #записываем в индекс значения если проверка прошла\n",
    "            a[q][i],a[q][ind] = a[q][ind],a[q][i]#переставляем индыксы, что бы мин было ближе к началу\n",
    "    return a\n",
    "\n",
    "a1=a.copy()\n",
    "start_time = time.time ()\n",
    "sort(a1,m)\n",
    "print(\"--- {0} ms ---\".format(round((time.time() - start_time)*1000)))\n",
    "for k in range(m):# вывод ввиде матрицы\n",
    "    for y in range(len(a1[k])):\n",
    "        print(a1[k][y],end=' ')\n",
    "    print(\" \")"
   ]
  },
  {
   "cell_type": "code",
   "execution_count": 5,
   "id": "0c63d6f2",
   "metadata": {},
   "outputs": [
    {
     "name": "stdout",
     "output_type": "stream",
     "text": [
      "--- 0 ms ---\n",
      "[10, 14, 41, 48, 65]\n",
      "[3, 19, 51, 76, 89]\n",
      "[0, 29, 35, 79, 93]\n",
      "[3, 14, 35, 45, 78]\n",
      "[15, 38, 54, 67, 78]\n"
     ]
    }
   ],
   "source": [
    "# Сортировка вставкой\n",
    "def vstavka(a,m):\n",
    "    for q in range(m):#выбираем одну из м строчек\n",
    "        for i in range(1, len(a[q])):\n",
    "            t = a[q][i]# сохранняем переменную которую будем сортировать\n",
    "            j = i - 1# берем индекс на 1 меньше чем у сохраненного значения\n",
    "            while (j>=0 and t<a[q][j]):# проходимся по всему списку, если индекс больше или равен нулю и значение \n",
    "                #которое мы сохранили больше того что было до него, то на место этого значения ставим число больше сохраненного\n",
    "                a[q][j+1] = a[q][j]\n",
    "                j= j - 1\n",
    "            a[q][j+1] = t# подставляем сохраненное число на место которое осталось не заолоненом\n",
    "    return a\n",
    "a2=a.copy()\n",
    "start_time = time.time ()\n",
    "vstavka(a2,m)\n",
    "print(\"--- {0} ms ---\".format(round((time.time() - start_time)*1000)))\n",
    "for k in range(m):#вывод результата\n",
    "    print(a2[k])"
   ]
  },
  {
   "cell_type": "code",
   "execution_count": 6,
   "id": "36bf151e",
   "metadata": {},
   "outputs": [
    {
     "name": "stdout",
     "output_type": "stream",
     "text": [
      "--- 0 ms ---\n",
      "[0, 29, 35, 79, 93]\n",
      "[3, 14, 35, 45, 78]\n",
      "[3, 19, 51, 76, 89]\n",
      "[10, 14, 41, 48, 65]\n",
      "[15, 38, 54, 67, 78]\n"
     ]
    }
   ],
   "source": [
    "# Сортировка обменом. || Сортировка пузырьком.\n",
    "def bubble_sort(a): \n",
    "    for i in range(0,len(a)-1): \n",
    "        for j in range(len(a)-1): \n",
    "            if(a[j]>a[j+1]): \n",
    "                temp = a[j] \n",
    "                a[j] = a[j+1] \n",
    "                a[j+1] = temp \n",
    "    return a \n",
    " \n",
    "a3 = a.copy() \n",
    "start_time = time.time ()\n",
    "bubble_sort(a3)\n",
    "print(\"--- {0} ms ---\".format(round((time.time() - start_time)*1000)))\n",
    "for k in range(m):\n",
    "    print(a3[k])"
   ]
  },
  {
   "cell_type": "code",
   "execution_count": 7,
   "id": "08158ba4",
   "metadata": {},
   "outputs": [
    {
     "name": "stdout",
     "output_type": "stream",
     "text": [
      "--- 0 ms ---\n",
      "[10, 14, 41, 48, 65]\n",
      "[3, 19, 51, 76, 89]\n",
      "[0, 29, 35, 79, 93]\n",
      "[3, 14, 35, 45, 78]\n",
      "[15, 38, 54, 67, 78]\n"
     ]
    }
   ],
   "source": [
    "# Сортировка Шелла.\n",
    "def shela(a, m):\n",
    "    for q in range(m):\n",
    "        n = len(a[q])# длина строки матрицы\n",
    "        logo = int(math.log2(n))# берется логоритм от 2 по длине массива\n",
    "        interval = 2**logo -1# задаем интервал по следующей формуле\n",
    "        while interval > 0:# проходимся пока интервал не будет равен или меньше 0\n",
    "            for i in range(interval, n):#берем срез от значения интервала до длины ммасива\n",
    "                t = a[q][i]# фиксируем значение\n",
    "                j = i# и индекс\n",
    "                while j >= interval and a[q][j - interval] > t:# пока индекс будет больше интервала и значение фиксируемого \n",
    "                    #числа меньше значения [j - interval] будем в место числа с фиксируемым индексом ставитьзначеине которое\n",
    "                    # было меньше\n",
    "                    a[q][j] = a[q][j - interval]\n",
    "                    j -= interval\n",
    "                a[q][j] = t# после всего ставим на фиксируемый индекс фиксируемое число\n",
    "            logo -= 1 # уменьшаем значение лого\n",
    "            interval = 2**logo -1# заново считаем интервал\n",
    "    return a\n",
    "a4 = a.copy()\n",
    "start_time = time.time ()\n",
    "shela(a4,m)\n",
    "print(\"--- {0} ms ---\".format(round((time.time() - start_time)*1000)))\n",
    "for k in range(m):\n",
    "    print(a4[k])"
   ]
  },
  {
   "cell_type": "code",
   "execution_count": 8,
   "id": "1da1a48d",
   "metadata": {},
   "outputs": [
    {
     "name": "stdout",
     "output_type": "stream",
     "text": [
      "--- 0 ms ---\n",
      "[10, 14, 41, 48, 65]\n",
      "[3, 19, 51, 76, 89]\n",
      "[0, 29, 35, 79, 93]\n",
      "[3, 14, 35, 45, 78]\n",
      "[15, 38, 54, 67, 78]\n"
     ]
    }
   ],
   "source": [
    "# Быстрая сортировка.\n",
    "def quickSort(a):\n",
    "        if len(a)> 1:\n",
    "            pivot=a.pop()\n",
    "            grtr_lst, equal_lst, smlr_lst = [], [pivot], []\n",
    "            for item in a:\n",
    "                if item == pivot:\n",
    "                    equal_lst.append(item)\n",
    "                elif item > pivot:\n",
    "                    grtr_lst.append(item)\n",
    "                else:\n",
    "                    smlr_lst.append(item)\n",
    "            return(quickSort(smlr_lst) + equal_lst + quickSort(grtr_lst))\n",
    "        else:\n",
    "            return(a)\n",
    "b = []\n",
    "a6 = a.copy()\n",
    "start_time = time.time()\n",
    "for i in range(m):\n",
    "    b.append(quickSort(a[i]))\n",
    "\n",
    "print(\"--- {0} ms ---\".format(round((time.time() - start_time)*1000)))\n",
    "for i in range(m):\n",
    "    print(b[i])"
   ]
  },
  {
   "cell_type": "code",
   "execution_count": 9,
   "id": "96e63b74",
   "metadata": {},
   "outputs": [
    {
     "name": "stdout",
     "output_type": "stream",
     "text": [
      "--- 0 ms ---\n",
      "[0, 29, 35, 79]\n",
      "[3, 14, 35, 45]\n",
      "[3, 19, 51, 76]\n",
      "[10, 14, 41, 48]\n",
      "[15, 38, 54, 67]\n"
     ]
    }
   ],
   "source": [
    "# Турнирная сортировка.\n",
    "# Класс, реализующий преоритетную очередь-кучу\n",
    "class PriorityQueue:\n",
    "    def __init__(self):\n",
    "        self.heap = []\n",
    "        \n",
    "    @property\n",
    "    def size(self):\n",
    "        return len(self.heap)\n",
    "        \n",
    "    def get_right_child(self, index):\n",
    "        if 2 * index < self.size and index >= 0:\n",
    "            return 2 * index + 1\n",
    "        return -1\n",
    "\n",
    "    def get_left_child(self, index):\n",
    "        if 2 * index < self.size + 1 and index >= 0:\n",
    "            return 2 * index + 2\n",
    "        return -1\n",
    "\n",
    "    def get_parent(self, index):\n",
    "        if index > 0 and index - 1 < self.size:\n",
    "            return index // 2\n",
    "        return -1\n",
    "    \n",
    "    def swap(self, a, b):\n",
    "        self.heap[a], self.heap[b] = self.heap[b], self.heap[a]\n",
    "\n",
    "    def heapify(self, index):\n",
    "        l = 2 * index + 1\n",
    "        r = l + 1\n",
    "\n",
    "        smallest = index\n",
    "\n",
    "        if l < self.size and l >= 0:\n",
    "            if self.heap[l] < self.heap[smallest]:\n",
    "                smallest = l\n",
    "\n",
    "        if r < self.size and r >= 0:\n",
    "            if self.heap[r] < self.heap[smallest]:\n",
    "                smallest = r\n",
    "\n",
    "        if smallest != index:\n",
    "            self.swap(index, smallest)\n",
    "            self.heapify(smallest)\n",
    "\n",
    "    def pop(self):\n",
    "        last = self.heap.pop()\n",
    "        \n",
    "        if self.size > 0:\n",
    "            min = self.heap[0]\n",
    "            self.heap[0] = last\n",
    "            self.heapify(0)\n",
    "            return min\n",
    "        else:\n",
    "            return last\n",
    "\n",
    "    def decrease(self, index, item):\n",
    "        heap = self.heap\n",
    "        \n",
    "        while index > 0:\n",
    "            parent_index = (index - 1) >> 1\n",
    "            parent = heap[parent_index]\n",
    "            if parent > item:\n",
    "                heap[index] = parent\n",
    "                index = parent_index\n",
    "            else: break\n",
    "        heap[index] = item\n",
    "\n",
    "    def push(self, item):\n",
    "        self.heap.append(item)\n",
    "        self.decrease(self.size - 1, item)\n",
    "\n",
    "# Турнирная сортировка.\n",
    "def tournament_sort(arr):\n",
    "    size = len(arr)#длина строки\n",
    "    max_size = 16\n",
    "    pq = PriorityQueue()\n",
    "    \n",
    "    while pq.size < max_size and len(arr) > 0:\n",
    "        pq.push(arr.pop(0))\n",
    "    \n",
    "    winners = []\n",
    "    losers = []\n",
    "    \n",
    "    while len(arr) > 0:\n",
    "        if len(winners) == 0:\n",
    "            winners.append(pq.pop())\n",
    "        if arr[0] > winners[-1]:\n",
    "            pq.push(arr.pop(0))\n",
    "        else:\n",
    "            losers.append(arr.pop(0))\n",
    "        \n",
    "        if pq.size > 0:\n",
    "            winners.append(pq.pop())\n",
    "    \n",
    "    while pq.size > 0:\n",
    "        winners.append(pq.pop()) \n",
    "        \n",
    "    if len(losers) == 0:\n",
    "        return winners\n",
    "    \n",
    "    losers = tournament_sort(losers)\n",
    "    \n",
    "    def merge(array_a, array_b, result):\n",
    "        a = 0\n",
    "        b = 0\n",
    "        r = 0\n",
    "        while a < len(array_a) and b < len(array_b):\n",
    "            if array_a[a] < array_b[b]:\n",
    "                result[r] = array_a[a]\n",
    "                a += 1\n",
    "            else:\n",
    "                result[r] = array_b[b]\n",
    "                b += 1\n",
    "            r += 1\n",
    "        while a < len(array_a):\n",
    "            result[r] = array_a[a]\n",
    "            a += 1\n",
    "            r += 1\n",
    "        while b < len(array_b):\n",
    "            result[r] = array_b[b]\n",
    "            b += 1\n",
    "            r += 1\n",
    "    \n",
    "    arr = list(range(size))\n",
    "    merge(losers, winners, arr)\n",
    "    return arr;\n",
    "\n",
    "arr = a.copy()\n",
    "start_time = time.time()\n",
    "\n",
    "arr = tournament_sort(arr)\n",
    "\n",
    "print(\"--- {0} ms ---\".format(round((time.time() - start_time)*1000)))\n",
    "for k in range(m):\n",
    "    print(arr[k])"
   ]
  },
  {
   "cell_type": "code",
   "execution_count": null,
   "id": "6297edb5",
   "metadata": {},
   "outputs": [],
   "source": []
  }
 ],
 "metadata": {
  "kernelspec": {
   "display_name": "Python 3 (ipykernel)",
   "language": "python",
   "name": "python3"
  },
  "language_info": {
   "codemirror_mode": {
    "name": "ipython",
    "version": 3
   },
   "file_extension": ".py",
   "mimetype": "text/x-python",
   "name": "python",
   "nbconvert_exporter": "python",
   "pygments_lexer": "ipython3",
   "version": "3.9.7"
  }
 },
 "nbformat": 4,
 "nbformat_minor": 5
}
