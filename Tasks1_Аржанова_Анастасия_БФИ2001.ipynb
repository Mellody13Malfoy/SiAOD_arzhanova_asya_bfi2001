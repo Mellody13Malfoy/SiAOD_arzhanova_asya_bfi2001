{
 "cells": [
  {
   "cell_type": "markdown",
   "id": "244314fb",
   "metadata": {},
   "source": [
    "# Задание 1"
   ]
  },
  {
   "cell_type": "markdown",
   "id": "64630386",
   "metadata": {},
   "source": [
    "Даны две строки: `s1` и `s2` с одинаковым размером.\n",
    "\n",
    "Проверьте, может ли некоторая перестановка строки `s1` “победить” некоторую перестановку строки `s2` или наоборот.\n",
    "\n",
    "Строка x может “победить” строку y (обе имеют размер n), если `x[i] >= y[i]` (в алфавитном порядке) для всех i от 0 до n-1.\n"
   ]
  },
  {
   "cell_type": "markdown",
   "id": "cf51dab2",
   "metadata": {},
   "source": [
    "## Ввод"
   ]
  },
  {
   "cell_type": "markdown",
   "id": "d697a747",
   "metadata": {},
   "source": [
    "`abc`\n",
    "`xya`"
   ]
  },
  {
   "cell_type": "markdown",
   "id": "50b10a2e",
   "metadata": {},
   "source": [
    "## Вывод"
   ]
  },
  {
   "cell_type": "markdown",
   "id": "55442a49",
   "metadata": {},
   "source": [
    "`True`\n",
    "\n",
    "### Исполняемый код записать в ячейку ниже:"
   ]
  },
  {
   "cell_type": "code",
   "execution_count": null,
   "id": "3b0d440a",
   "metadata": {},
   "outputs": [],
   "source": [
    "s1 = str(input())\n",
    "s2 = str(input())\n",
    "for i in range(len(s1)):\n",
    "    if(s1[i]<=s2[i]):\n",
    "        f=1\n",
    "    else:\n",
    "        f=0\n",
    "        break\n",
    "if f==1:\n",
    "    print(\"true\")\n",
    "else:\n",
    "    print(\"false\")"
   ]
  },
  {
   "cell_type": "markdown",
   "id": "b3a969a6",
   "metadata": {},
   "source": [
    "# Задание 2"
   ]
  },
  {
   "cell_type": "markdown",
   "id": "9c1ce05d",
   "metadata": {},
   "source": [
    "Дана строка `s`, вернуть самую длинную полиндромную подстроку в `s`."
   ]
  },
  {
   "cell_type": "markdown",
   "id": "20415c0e",
   "metadata": {},
   "source": [
    "## Ввод"
   ]
  },
  {
   "cell_type": "markdown",
   "id": "e77fcb44",
   "metadata": {},
   "source": [
    "`babad`"
   ]
  },
  {
   "cell_type": "markdown",
   "id": "49996449",
   "metadata": {},
   "source": [
    "## Вывод"
   ]
  },
  {
   "cell_type": "markdown",
   "id": "75be2464",
   "metadata": {},
   "source": [
    "`aba` или `bab`"
   ]
  },
  {
   "cell_type": "markdown",
   "id": "12ef9771",
   "metadata": {},
   "source": [
    "## Исполняемый код записывать в ячейку ниже"
   ]
  },
  {
   "cell_type": "code",
   "execution_count": null,
   "id": "3f06c4fc",
   "metadata": {},
   "outputs": [],
   "source": [
    "def findLongestPalindromicString(text):\n",
    "\tN = len(text)#длина текста\n",
    "\tif N == 0:# если длина текста равна 0 то функция заканчивается и возращается постая строка\n",
    "\t\treturn\n",
    "\tN = 2*N+1 # Position count\n",
    "\tL = [0] * N#создаем новый массив длиной н\n",
    "\tL[0] = 0\n",
    "\tL[1] = 1\n",
    "\tC = 1\t # centerPosition\n",
    "\tR = 2\t # centerRightPosition\n",
    "\ti = 0 # currentRightPosition\n",
    "\tiMirror = 0\t # currentLeftPosition\n",
    "\tmaxLPSLength = 0\n",
    "\tmaxLPSCenterPosition = 0\n",
    "\tstart = -1\n",
    "\tend = -1\n",
    "\tdiff = -1\n",
    "\n",
    "\t# Uncomment it to print LPS Length array\n",
    "\t# printf(\"%d %d \", L[0], L[1]);\n",
    "\tfor i in range(2,N):\n",
    "\n",
    "\t\t# get currentLeftPosition iMirror for currentRightPosition i\n",
    "\t\tiMirror = 2*C-i\n",
    "\t\tL[i] = 0\n",
    "\t\tdiff = R - i\n",
    "\t\t# If currentRightPosition i is within centerRightPosition R\n",
    "\t\tif diff > 0:\n",
    "\t\t\tL[i] = min(L[iMirror], diff)\n",
    "\n",
    "\t\t# Attempt to expand palindrome centered at currentRightPosition i\n",
    "\t\t# Here for odd positions, we compare characters and\n",
    "\t\t# if match then increment LPS Length by ONE\n",
    "\t\t# If even position, we just increment LPS by ONE without\n",
    "\t\t# any character comparison\n",
    "\t\ttry:\n",
    "\t\t\twhile ((i + L[i]) < N and (i - L[i]) > 0) and \\\n",
    "\t\t\t\t\t(((i + L[i] + 1) % 2 == 0) or \\\n",
    "\t\t\t\t\t(text[(i + L[i] + 1) // 2] == text[(i - L[i] - 1) // 2])):\n",
    "\t\t\t\tL[i]+=1\n",
    "\t\texcept Exception as e:\n",
    "\t\t\tpass\n",
    "\n",
    "\t\tif L[i] > maxLPSLength:\t # Track maxLPSLength\n",
    "\t\t\tmaxLPSLength = L[i]\n",
    "\t\t\tmaxLPSCenterPosition = i\n",
    "\n",
    "\t\t# If palindrome centered at currentRightPosition i\n",
    "\t\t# expand beyond centerRightPosition R,\n",
    "\t\t# adjust centerPosition C based on expanded palindrome.\n",
    "\t\tif i + L[i] > R:\n",
    "\t\t\tC = i\n",
    "\t\t\tR = i + L[i]\n",
    "\n",
    "\t# Uncomment it to print LPS Length array\n",
    "\t# printf(\"%d \", L[i]);\n",
    "\tstart = (maxLPSCenterPosition - maxLPSLength) // 2\n",
    "\tend = start + maxLPSLength - 1\n",
    "\tprint (\"LPS of string is \" + text + \" : \",text[start:end+1])\n",
    "\n",
    "# Driver program\n",
    "s = \"babad\"\n",
    "findLongestPalindromicString(s)"
   ]
  },
  {
   "cell_type": "markdown",
   "id": "5f54b630",
   "metadata": {},
   "source": [
    "# Задание 3"
   ]
  },
  {
   "cell_type": "markdown",
   "id": "566f1d3b",
   "metadata": {},
   "source": [
    "Вернуть количество отдельных непустых подстрок текста, которые могут быть записаны как конкатенация некоторой строки с самой собой (т.е. она может быть записана, как `a + a`, где `a` - некоторая строка)."
   ]
  },
  {
   "cell_type": "markdown",
   "id": "0f734fd8",
   "metadata": {},
   "source": [
    "## Ввод"
   ]
  },
  {
   "cell_type": "markdown",
   "id": "e0be5554",
   "metadata": {},
   "source": [
    "`aabb`"
   ]
  },
  {
   "cell_type": "markdown",
   "id": "ab8eda0b",
   "metadata": {},
   "source": [
    "## Вывод"
   ]
  },
  {
   "cell_type": "markdown",
   "id": "1d716d36",
   "metadata": {},
   "source": [
    "2"
   ]
  },
  {
   "cell_type": "markdown",
   "id": "fcd91349",
   "metadata": {},
   "source": [
    "## Исполняемый код записывать в ячейку ниже"
   ]
  },
  {
   "cell_type": "code",
   "execution_count": null,
   "id": "be07379d",
   "metadata": {},
   "outputs": [],
   "source": [
    "s = list(input())\n",
    "q=[]\n",
    "for i in s:\n",
    "    if i in q:\n",
    "        pass\n",
    "    else:\n",
    "        q.append(i)\n",
    "print(''.join(q))"
   ]
  }
 ],
 "metadata": {
  "kernelspec": {
   "display_name": "Python 3 (ipykernel)",
   "language": "python",
   "name": "python3"
  },
  "language_info": {
   "codemirror_mode": {
    "name": "ipython",
    "version": 3
   },
   "file_extension": ".py",
   "mimetype": "text/x-python",
   "name": "python",
   "nbconvert_exporter": "python",
   "pygments_lexer": "ipython3",
   "version": "3.9.7"
  }
 },
 "nbformat": 4,
 "nbformat_minor": 5
}