{
 "cells": [
  {
   "cell_type": "markdown",
   "id": "fifteen-sailing",
   "metadata": {},
   "source": [
    "# Лабораторная работа №4\n",
    "## Выполнил студент группы БФИ2001 Аржанова Анасиася"
   ]
  },
  {
   "cell_type": "markdown",
   "id": "arctic-stocks",
   "metadata": {},
   "source": [
    "Реализовать следующие структуры данных:\n",
    "  \n",
    "● <b> Стек (stack): </b>  \n",
    "Операции для стека: \n",
    "<i> инициализация, проверка на пустоту, добавление нового элемента в начало, извлечение элемента из начала;  </i>  \n",
    "  \n",
    "● <b> Дек (двусторонняя очередь, deque):  </b>  \n",
    "Операции для дека: \n",
    "<i> инициализация, проверка на пустоту, добавление нового элемента в начало, добавление нового элемента в конец, извлечение элемента из начала, извлечение элемента из конца. </i>  \n",
    "  \n",
    "<i> Разработать программу обработки данных, содержащихся в заранее подготовленном txt-файле, в соответствии с заданиями, применив указанную в задании структуру данных. Результат работы программы вывести на экран и сохранить в отдельном txt-файле. </i>"
   ]
  },
  {
   "cell_type": "code",
   "execution_count": 1,
   "id": "62badf66",
   "metadata": {},
   "outputs": [],
   "source": [
    "# -*- coding: utf-8 -*-\n",
    "import copy\n",
    "class stack: \n",
    "    def __init__(self): \n",
    "        self.stack = []\n",
    "    def pop(self): \n",
    "        if len(self.stack) < 1: \n",
    "            return None \n",
    "        return self.stack.pop() \n",
    "    def push(self, item): \n",
    "        self.stack.append(item)\n",
    "    def size(self): \n",
    "        return len(self.stack)\n",
    "    def empty(self):\n",
    "        return self.size() == 0 \n",
    "    def reverse(self):\n",
    "        return self.stack.reverse()\n",
    "    def insert(self,i,item):\n",
    "        self.stack.insert(i,item)\n",
    "class deque: \n",
    "    def __init__(self, mas = []): \n",
    "        self.deque = copy.deepcopy(mas)\n",
    "    def pop(self): \n",
    "        if len(self.deque) < 1: \n",
    "            return None \n",
    "        return self.deque.pop() \n",
    "    def popleft(self): \n",
    "        if len(self.deque) < 1: \n",
    "            return None \n",
    "        return self.deque.pop(0)\n",
    "    def append(self, item): \n",
    "        self.deque.append(item)\n",
    "    def appendleft(self, item): \n",
    "        self.deque.insert(0,item)\n",
    "    def size(self): \n",
    "        return len(self.deque)\n",
    "    def empty(self):\n",
    "        return self.size() == 0\n",
    "    def insert(self,i,item):\n",
    "        self.deque.insert(i,item)\n",
    "    def end(self):\n",
    "        return self.deque[-1]\n",
    "    def start(self):\n",
    "        return self.deque[0]"
   ]
  },
  {
   "cell_type": "code",
   "execution_count": 2,
   "id": "06755eb3",
   "metadata": {},
   "outputs": [],
   "source": [
    "zadania = []\n",
    "f = open(\"text.txt\", \"r\",encoding='utf-8')\n",
    "for i in f:\n",
    "    zadania.append(i[:-1])\n",
    "f.close()\n",
    "ind1 = zadania.index(\"задание 1\")\n",
    "ind2 = zadania.index(\"задание 2\")\n",
    "ind3 = zadania.index(\"задание 3\")\n",
    "ind4 = zadania.index(\"задание 4\")\n",
    "ind5 = zadania.index(\"задание 5\")\n",
    "ind6 = zadania.index(\"задание 6\")\n",
    "ind7 = zadania.index(\"задание 7\")\n",
    "ind8 = zadania.index(\"задание 8\")"
   ]
  },
  {
   "cell_type": "markdown",
   "id": "5d7edb08",
   "metadata": {
    "scrolled": true
   },
   "source": [
    "### Задание №1\n",
    "Отсортировать строки файла, содержащие названия книг, в алфавитном порядке с использованием двух деков."
   ]
  },
  {
   "cell_type": "code",
   "execution_count": 3,
   "id": "17702ade",
   "metadata": {},
   "outputs": [
    {
     "name": "stdout",
     "output_type": "stream",
     "text": [
      "Война и мир, отцы и дети, муму\n"
     ]
    }
   ],
   "source": [
    "otv = deque()\n",
    "q = deque(zadania[ind1+1].split(\", \"))\n",
    "otv.append(q.popleft())\n",
    "while q.size()>0:\n",
    "    f = 0\n",
    "    vr = q.popleft()\n",
    "    for i in range(otv.size()):\n",
    "        if vr[0]< otv.start()[0]:\n",
    "            otv.insert(i,vr)\n",
    "            f = 1\n",
    "            break\n",
    "    if f == 0:\n",
    "        otv.append(vr) \n",
    "z1 = \"\"\n",
    "while otv.size()>0:\n",
    "    z1+=otv.popleft()+\", \"\n",
    "print(z1[:-2])"
   ]
  },
  {
   "cell_type": "markdown",
   "id": "49fbd2a0",
   "metadata": {},
   "source": [
    "### Задание №2\n",
    "Дек содержит последовательность символов для шифровки сообщений. Дан текстовый файл, содержащий зашифрованное сообщение. Пользуясь деком, расшифровать текст. \n",
    "Известно, что при шифровке каждый символ сообщения заменялся следующим за ним в деке по часовой стрелке через один."
   ]
  },
  {
   "cell_type": "code",
   "execution_count": 4,
   "id": "81cab7a8",
   "metadata": {},
   "outputs": [
    {
     "name": "stdout",
     "output_type": "stream",
     "text": [
      "ожкпижз цжто\n",
      "римский шифр\n"
     ]
    }
   ],
   "source": [
    "zadania2 = zadania[ind2+1:ind3]\n",
    "dec_alphabet = deque([])\n",
    "for i in range(32):\n",
    "    dec_alphabet.append(str(ord(\"а\") + i))\n",
    "    dec_alphabet.append(str(ord(\" \")))\n",
    "\n",
    "otvet_z2 = ''\n",
    "initial_text = ''\n",
    "for line in zadania2:\n",
    "    for sym in line:\n",
    "        while sym != chr(int(dec_alphabet.end())):\n",
    "            dec_alphabet.appendleft(dec_alphabet.pop())\n",
    "        dec_alphabet.append(dec_alphabet.popleft())\n",
    "        dec_alphabet.append(dec_alphabet.popleft())\n",
    "        dec_alphabet.append(dec_alphabet.popleft())\n",
    "        dec_alphabet.append(dec_alphabet.popleft())\n",
    "        initial_text = initial_text + sym\n",
    "        otvet_z2 += chr(int(dec_alphabet.end()))\n",
    "print(initial_text)\n",
    "print(otvet_z2)\n"
   ]
  },
  {
   "cell_type": "markdown",
   "id": "c0894f47",
   "metadata": {},
   "source": [
    "### Задание №3\n",
    "Даны три стержня и n дисков различного размера. Диски можно надевать на стержни, образуя из них башни. Перенести n дисков со стержня А на стержень С, сохранив их первоначальный порядок. При переносе дисков необходимо соблюдать следующие правила:\n",
    "- на каждом шаге со стержня на стержень переносить только один диск;\n",
    "- диск нельзя помещать на диск меньшего размера;\n",
    "- для промежуточного хранения можно использовать стержень В.\n",
    "Реализовать алгоритм, используя три стека вместо стержней А, В, С. Информация о дисках хранится в исходном файле."
   ]
  },
  {
   "cell_type": "code",
   "execution_count": 5,
   "id": "9e91a9d4",
   "metadata": {},
   "outputs": [
    {
     "name": "stdout",
     "output_type": "stream",
     "text": [
      "1 2 40 25 20 \n"
     ]
    }
   ],
   "source": [
    "file =  zadania[ind3+1:ind4]\n",
    "A = stack()\n",
    "B = stack()\n",
    "C = stack()\n",
    "num: int = 0\n",
    "for line in file:\n",
    "    A.push(line)\n",
    "    num += 1\n",
    "        \n",
    "def ToH(num, A, B, C):\n",
    "    if num == 1:\n",
    "        B.push(A.pop())\n",
    "        return \n",
    "    ToH(num-1, A, C, B)\n",
    "    B.push(A.pop())\n",
    "    ToH(num-1, C, B, A)\n",
    "         \n",
    "ToH(num, A, C, B)\n",
    "otvet_z3 = \"\"\n",
    "while not C.empty():\n",
    "    otvet_z3 += C.pop()+ \" \"\n",
    "print(otvet_z3)"
   ]
  },
  {
   "cell_type": "markdown",
   "id": "e5b0be17",
   "metadata": {},
   "source": [
    "### Задание №4\n",
    "Дан текстовый файл с программой на алгоритмическом языке. За один просмотр файла проверить баланс круглых скобок в тексте, используя стек."
   ]
  },
  {
   "cell_type": "code",
   "execution_count": 6,
   "id": "5b1df60a",
   "metadata": {},
   "outputs": [
    {
     "name": "stdout",
     "output_type": "stream",
     "text": [
      "True\n"
     ]
    }
   ],
   "source": [
    "zadania4 = deque(zadania[ind4+1:ind5])\n",
    "stack_left_parenthesis = stack()\n",
    "check4: bool = True\n",
    "while zadania4.size()>0:\n",
    "    text = zadania4.pop()\n",
    "    for i in range(len(text)):\n",
    "        if text[i] == '(':\n",
    "            stack_left_parenthesis.push('(')\n",
    "        elif text[i] == ')' and not stack_left_parenthesis.empty():\n",
    "            stack_left_parenthesis.pop()\n",
    "        elif text[i] == ')' and stack_left_parenthesis.empty():\n",
    "            check4 = False\n",
    "        elif not stack_left_parenthesis.empty() and i==len(text)-1:\n",
    "            check4 = False\n",
    "print(check4)"
   ]
  },
  {
   "cell_type": "markdown",
   "id": "c44cdd6b",
   "metadata": {},
   "source": [
    "### Задание №5\n",
    "Дан текстовый файл с программой на алгоритмическом языке. За один просмотр файла проверить баланс квадратных скобок в тексте, используя дек."
   ]
  },
  {
   "cell_type": "code",
   "execution_count": 7,
   "id": "36b8f400",
   "metadata": {},
   "outputs": [
    {
     "name": "stdout",
     "output_type": "stream",
     "text": [
      "True\n"
     ]
    }
   ],
   "source": [
    "z5 = deque(zadania[ind5+1:ind6])\n",
    "deque_of_brackets = deque()\n",
    "check5: bool = True\n",
    "while z5.size()>0:\n",
    "    text = z5.pop()\n",
    "    for i in range(len(text)):\n",
    "        if text[i] == '[':\n",
    "            deque_of_brackets.appendleft('[')\n",
    "        if text[i] == ']':\n",
    "            deque_of_brackets.append(']')\n",
    "while deque_of_brackets.size()>0:\n",
    "    if deque_of_brackets.size() == 1:\n",
    "        check5 = False\n",
    "        break\n",
    "    elif deque_of_brackets.pop()==deque_of_brackets.popleft():\n",
    "        check5 = False\n",
    "        break\n",
    "print(check5)"
   ]
  },
  {
   "cell_type": "markdown",
   "id": "59d13dc7",
   "metadata": {},
   "source": [
    "### Задание №6\n",
    "Дан файл из символов. Используя стек, за один просмотр файла напечатать сначала все цифры, затем все буквы, и, наконец, все остальные символы, сохраняя исходный порядок в каждой группе символов."
   ]
  },
  {
   "cell_type": "code",
   "execution_count": 8,
   "id": "297e36c2",
   "metadata": {},
   "outputs": [
    {
     "name": "stdout",
     "output_type": "stream",
     "text": [
      "3 13 5 a r w g d s , . # $\n"
     ]
    }
   ],
   "source": [
    "#задание 6\n",
    "otv = deque()\n",
    "stroka = zadania[ind6+1].split()\n",
    "chisl = 0\n",
    "stro = 0\n",
    "inoe = 0\n",
    "otve = stack()\n",
    "chis_otv =\"\"\n",
    "for i in stroka:\n",
    "    if i.isdigit():\n",
    "        otve.insert(chisl,i)\n",
    "        chisl+=1\n",
    "    elif i.isalpha():\n",
    "        otve.insert(stro+chisl,i)\n",
    "        stro+=1\n",
    "    else:\n",
    "        otve.insert(inoe+stro+chisl,i)\n",
    "        inoe+=1\n",
    "while otve.size()>0:\n",
    "    chis_otv+=otve.pop()+\" \"\n",
    "r = chis_otv.split()\n",
    "chis_otv = \"\"\n",
    "for i in range(len(r)-1,0,-1):\n",
    "    chis_otv+=str(r[i])+\" \"\n",
    "print(chis_otv+r[0])"
   ]
  },
  {
   "cell_type": "markdown",
   "id": "973f68bd",
   "metadata": {},
   "source": [
    "### Задание №7\n",
    "Дан файл из целых чисел. Используя дек, за один просмотр файла напечатать сначала все отрицательные числа, затем все положительные числа, сохраняя исходный порядок в каждой группе."
   ]
  },
  {
   "cell_type": "code",
   "execution_count": 9,
   "id": "c56fad66",
   "metadata": {},
   "outputs": [
    {
     "name": "stdout",
     "output_type": "stream",
     "text": [
      "-7 -5 -17 11 12 1 7 4 11 \n"
     ]
    }
   ],
   "source": [
    "chisla = zadania[ind7+1].split()\n",
    "chis_vivod = deque()\n",
    "chis_vivod_otv = \"\"\n",
    "left = 0\n",
    "for i in chisla:\n",
    "    if int(i)>0:\n",
    "        chis_vivod.append(i)\n",
    "    else:\n",
    "        chis_vivod.insert(left,i)\n",
    "        left +=1\n",
    "while chis_vivod.size()>0:\n",
    "    chis_vivod_otv+=chis_vivod.popleft()+\" \"\n",
    "print(chis_vivod_otv)"
   ]
  },
  {
   "cell_type": "markdown",
   "id": "b9228191",
   "metadata": {},
   "source": [
    "### Задание №8\n",
    "Дан текстовый файл. Используя стек, сформировать новый текстовый файл, содержащий строки исходного файла, записанные в обратном порядке: первая строка становится последней, вторая – предпоследней и т.д."
   ]
  },
  {
   "cell_type": "code",
   "execution_count": 10,
   "id": "981fbdfe",
   "metadata": {},
   "outputs": [
    {
     "name": "stdout",
     "output_type": "stream",
     "text": [
      "[привет, я твой код],[ как дела],[ ()_()],[ хаюшки]\n"
     ]
    }
   ],
   "source": [
    "is_text = stack()\n",
    "is_text_otvet = \"[\"\n",
    "a = zadania[ind8+1:]\n",
    "for i in a:\n",
    "    is_text.push(i)\n",
    "is_text.reverse()\n",
    "while is_text.size()>0:\n",
    "    is_text_otvet+= is_text.pop()+\"],[ \"\n",
    "print(is_text_otvet[:-3])"
   ]
  },
  {
   "cell_type": "code",
   "execution_count": 11,
   "id": "c32f8767",
   "metadata": {},
   "outputs": [],
   "source": [
    "f = open(\"text_otv.txt\", \"w\",encoding='utf-8')\n",
    "f.write(\"Задание 1\\n\")\n",
    "f.write(z1[:-2]+\"\\n\")\n",
    "f.write(\"Задание 2\\n\")\n",
    "f.write(initial_text+\"\\n\")\n",
    "f.write(otvet_z2+\"\\n\")\n",
    "f.write(\"Задание 3\\n\")\n",
    "f.write(otvet_z3+\"\\n\")\n",
    "f.write(\"Задание 4\\n\")\n",
    "f.write(str(check4)+\"\\n\")\n",
    "f.write(\"Задание 5\\n\")\n",
    "f.write(str(check5)+\"\\n\")\n",
    "f.write(\"Задание 6\\n\")\n",
    "f.write(chis_otv+r[0]+\"\\n\")\n",
    "f.write(\"Задание 7\\n\")\n",
    "f.write(chis_vivod_otv+\"\\n\")\n",
    "f.write(\"Задание 8\\n\")\n",
    "f.write(is_text_otvet[:-3]+\"\\n\")\n",
    "f.close()"
   ]
  },
  {
   "cell_type": "markdown",
   "id": "rental-jerusalem",
   "metadata": {},
   "source": [
    "### Вывод\n"
   ]
  },
  {
   "cell_type": "markdown",
   "id": "0c2b8899",
   "metadata": {},
   "source": []
  }
 ],
 "metadata": {
  "kernelspec": {
   "display_name": "Python 3 (ipykernel)",
   "language": "python",
   "name": "python3"
  },
  "language_info": {
   "codemirror_mode": {
    "name": "ipython",
    "version": 3
   },
   "file_extension": ".py",
   "mimetype": "text/x-python",
   "name": "python",
   "nbconvert_exporter": "python",
   "pygments_lexer": "ipython3",
   "version": "3.9.7"
  }
 },
 "nbformat": 4,
 "nbformat_minor": 5
}
