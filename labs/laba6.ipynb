{
 "cells": [
  {
   "cell_type": "code",
   "execution_count": 4,
   "id": "64650b76",
   "metadata": {
    "scrolled": true
   },
   "outputs": [
    {
     "name": "stdout",
     "output_type": "stream",
     "text": [
      "посторение пути из точки B в тчоку E:\n",
      "B->A->E\n"
     ]
    },
    {
     "data": {
      "image/png": "[encoded data removed]",
      "text/plain": [
       "<Figure size 432x288 with 1 Axes>"
      ]
     },
     "metadata": {},
     "output_type": "display_data"
    }
   ],
   "source": [
    "import math\n",
    "import networkx as nx\n",
    "import matplotlib.pyplot as plt\n",
    "\n",
    "def mat(z,alf):#создание списка кортеджей которая всебе хранит растоянния от вершин\n",
    "    v = []\n",
    "    for k in z:\n",
    "        v.append(k.split())\n",
    "    n = len(v)\n",
    "    path = []\n",
    "    for i in range(n):\n",
    "        for ii in range(n):\n",
    "            if v[i][ii] ==\"0\" or v[i][ii] == '-':\n",
    "                pass\n",
    "            else:\n",
    "                path.append((alf[i].upper(),alf[ii].upper(),v[i][ii]))\n",
    "    return path\n",
    "\n",
    "def matric(rez,alf,path):#создание списка кортеджей длин наименьшего пути\n",
    "    path_m = []\n",
    "    for i in range(len(rez)-1):\n",
    "        for ii in path:\n",
    "            if ii[0] == alf[rez[i]-1].upper() and ii[1] == alf[rez[i+1]-1].upper():\n",
    "                path_m.append((alf[rez[i]-1].upper(),alf[rez[i+1]-1].upper(),ii[2]))\n",
    "    return path_m\n",
    "\n",
    "def floyd_algorithm(V,n,start,end):# создание матрицы из всех возможных путей\n",
    "    p = [[v for v in range(n)]for u in range(n)]# начальный список предыдущих вершин для поиска кратчайшего пути\n",
    "    for k in range(n):\n",
    "        for i in range(n):\n",
    "            for j in range(n):\n",
    "                d = V[i][k]+V[k][j]\n",
    "                if V[i][j]>d:\n",
    "                    V[i][j] = d\n",
    "                    p[i][j] = k# номер промежуточной вершины при движении от i до j\n",
    "    r = get_path(p,end-1,start-1)\n",
    "    r.reverse()\n",
    "    return r\n",
    "\n",
    "def get_path(P,u,v):# алгорит нахождения наименьшего пути\n",
    "    path = [u+1]\n",
    "    while u!=v:\n",
    "        u = P[u][v]\n",
    "        path.append(u+1)\n",
    "    return path\n",
    "\n",
    "\n",
    "\n",
    "def graf(path,rezMatrix):# отрисовка графа\n",
    "    G = nx.DiGraph() \n",
    "    M = nx.DiGraph()\n",
    "    E = path\n",
    "    Er=rezMatrix\n",
    "    G.add_weighted_edges_from(E)\n",
    "    M.add_weighted_edges_from(Er)\n",
    "    pos=nx.spring_layout(G)\n",
    "    \n",
    "    nx.draw(G, pos, with_labels=True, font_weight='bold',font_color='white',node_color='black')\n",
    "    nx.draw(M, pos, with_labels=True, font_weight='bold',font_color='white',node_color='red',edge_color='red')\n",
    "    \n",
    "    edge_weight = nx.get_edge_attributes(G,'weight')\n",
    "    nx.draw_networkx_edge_labels(G, pos, edge_labels = edge_weight)\n",
    "    plt.show()    \n",
    "\n",
    "alf = ['a', 'b', 'c', 'd', 'e', 'f', 'g', 'h', 'i', 'j', 'k', 'l', 'm', 'n', 'o', 'p', 'q', 'r', 's', 't', 'u', 'v', 'w', 'x', 'y', 'z']\n",
    "f = open(\"mas.txt\", \"r\",encoding='utf-8')\n",
    "V = []\n",
    "z = []\n",
    "for i in f:\n",
    "    z.append(i)\n",
    "f.close()\n",
    "path = mat(z,alf)\n",
    "for i in z:\n",
    "    k = i.split()\n",
    "    o = []\n",
    "    for ii in k:\n",
    "        if ii == \"-\":\n",
    "            o.append(math.inf)\n",
    "        else:\n",
    "            o.append(int(ii))\n",
    "    V.append(o)\n",
    "    o = []\n",
    "\n",
    "n = len(V)#число вершин в графе\n",
    "s = \"B\"\n",
    "e = \"E\"\n",
    "start = alf.index(s.lower())+1# начальная вершина\n",
    "end = alf.index(e.lower())+1#конечная вершина\n",
    "rez = floyd_algorithm(V,n,start,end)\n",
    "\n",
    "put = \"\"\n",
    "\n",
    "print(f'посторение пути из точки {alf[start-1].upper()} в тчоку {alf[end-1].upper()}:')\n",
    "for i in rez:\n",
    "    put += alf[i-1].upper()+\"->\"\n",
    "print(put[:-2])\n",
    "rezMatrix = matric(rez,alf,path)\n",
    "graf(path,rezMatrix)"
   ]
  },
  {
   "cell_type": "code",
   "execution_count": null,
   "id": "35149f50",
   "metadata": {},
   "outputs": [],
   "source": []
  },
  {
   "cell_type": "code",
   "execution_count": null,
   "id": "412cdbfb",
   "metadata": {},
   "outputs": [],
   "source": []
  }
 ],
 "metadata": {
  "kernelspec": {
   "display_name": "Python 3 (ipykernel)",
   "language": "python",
   "name": "python3"
  },
  "language_info": {
   "codemirror_mode": {
    "name": "ipython",
    "version": 3
   },
   "file_extension": ".py",
   "mimetype": "text/x-python",
   "name": "python",
   "nbconvert_exporter": "python",
   "pygments_lexer": "ipython3",
   "version": "3.9.7"
  }
 },
 "nbformat": 4,
 "nbformat_minor": 5
}
